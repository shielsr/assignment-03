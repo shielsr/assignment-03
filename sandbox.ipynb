{
 "cells": [
  {
   "cell_type": "code",
   "execution_count": 1,
   "id": "d8920be2",
   "metadata": {},
   "outputs": [
    {
     "data": {
      "text/plain": [
       "Gig(artist='Fontains DC', description='Check out the next gig', date and time='2026-02-05 20:30:00', venue='The Olympia', promoter='Promoter(name='MCD')')"
      ]
     },
     "execution_count": 1,
     "metadata": {},
     "output_type": "execute_result"
    }
   ],
   "source": [
    "from models import *\n",
    "\n",
    "# User story 1: As a promoter, I want to post upcoming gigs with details on artist, time, date, and venue, so fans will know what gigs are coming up.\n",
    "\n",
    "mcd = Promoter(\n",
    "    name=\"MCD\"\n",
    "    )\n",
    "\n",
    "gig0001 = Gig(\n",
    "    artist=\"Fontains DC\",\n",
    "\tdescription=\"Check out the next gig\",\n",
    "\tdate_time=datetime(2026,2,5,20,30,0),\n",
    "\timage_url=\"image/fontaines.jpg\",\n",
    "\tvenue=\"The Olympia\",\n",
    "    promoter=mcd\n",
    "    )\n",
    "\n",
    "gig0001"
   ]
  },
  {
   "cell_type": "code",
   "execution_count": null,
   "id": "2b443cd1",
   "metadata": {},
   "outputs": [
    {
     "name": "stdout",
     "output_type": "stream",
     "text": [
      "Sale(gig='Gig(artist='Fontains DC', description='Check out the next gig', date and time='2026-02-05 20:30:00', venue='The Olympia', promoter='Promoter(name='MCD')'))', sale begins='2025-11-30 10:00:00', amount of tickets=999)\n"
     ]
    }
   ],
   "source": [
    "# User story 2: As a promoter, I want to create a ticket sale event with start date, start time, amount of tickets, so I can sell tickets and make money.\n",
    "\n",
    "sale0001 = Sale(\n",
    "    ticket_price=20.50,\n",
    "    tickets_total=999,\n",
    "    start_date_time=datetime(2025,11, 30, 10, 0, 0),\n",
    "    gig = gig0001\n",
    ")\n",
    "\n",
    "print(sale0001)"
   ]
  },
  {
   "cell_type": "code",
   "execution_count": 3,
   "id": "992a4fc3",
   "metadata": {},
   "outputs": [
    {
     "name": "stdout",
     "output_type": "stream",
     "text": [
      "Sale starts in 76 days.\n"
     ]
    }
   ],
   "source": [
    "# As a promoter, I don't want to sell tickets before the sale start date, so fans can be ready to buy at a specific time.\n",
    "print(sale0001.countdown())"
   ]
  },
  {
   "cell_type": "code",
   "execution_count": 4,
   "id": "a7b1e82f",
   "metadata": {},
   "outputs": [
    {
     "name": "stdout",
     "output_type": "stream",
     "text": [
      "Tickets aren't on sale yet.\n",
      "Sale(gig='Gig(artist='Fontains DC', description='Check out the next gig', date and time='2026-02-05 20:30:00', venue='The Olympia', promoter='Promoter(name='MCD')'))', sale begins='2025-11-30 10:00:00', amount of tickets=999)\n"
     ]
    }
   ],
   "source": [
    "# As a promoter, I want the sale to stop when tickets run out, so I don't sell too many tickets.\n",
    "print(sale0001.ticket_check())\n",
    "print(sale0001)"
   ]
  },
  {
   "cell_type": "code",
   "execution_count": 5,
   "id": "c034b719",
   "metadata": {},
   "outputs": [
    {
     "name": "stdout",
     "output_type": "stream",
     "text": [
      "Total tickets: 999  Tickets left: 999\n",
      "Customer(name='Jim Smith', email='jimsmith@gmail.com'), you are buying 7 tickets\n",
      "Ticket price: 65.00\n",
      "Total cost: 455.00\n",
      "There are 992 tickets left.\n",
      "[{'customer': Customer(name='Jim Smith', email='jimsmith@gmail.com'), 'tickets': 7}]\n"
     ]
    }
   ],
   "source": [
    "# As a customer, I want to buy tickets so I can attend gigs.\n",
    "\n",
    "\n",
    "customer1234 = Customer(\n",
    "    name=\"Jim Smith\",\n",
    "\temail=\"jimsmith@gmail.com\"\n",
    "    )\n",
    "\n",
    "\n",
    "print(f\"Total tickets: {sale0001.tickets_total}  Tickets left: {sale0001.tickets_left}\")\n",
    "\n",
    "sale0001.buy(customer1234, 7)\n"
   ]
  }
 ],
 "metadata": {
  "kernelspec": {
   "display_name": "Python 3",
   "language": "python",
   "name": "python3"
  },
  "language_info": {
   "codemirror_mode": {
    "name": "ipython",
    "version": 3
   },
   "file_extension": ".py",
   "mimetype": "text/x-python",
   "name": "python",
   "nbconvert_exporter": "python",
   "pygments_lexer": "ipython3",
   "version": "3.13.7"
  }
 },
 "nbformat": 4,
 "nbformat_minor": 5
}
