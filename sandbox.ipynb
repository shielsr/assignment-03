{
 "cells": [
  {
   "cell_type": "code",
   "execution_count": 12,
   "id": "d8920be2",
   "metadata": {},
   "outputs": [
    {
     "name": "stdout",
     "output_type": "stream",
     "text": [
      "Sale(gig='Gig(artist='Fontains DC', description='Check out the next gig', date='2026-02-05 20:30:00 at 8:30', venue='The Olympia', promoter='Promoter(name='MCD')'))', sale begins='2025-11-12 10:00:00', amount of tickets=12,000)\n",
      "2025-11-12 10:00:00\n",
      "Gig(artist='Fontains DC', description='Check out the next gig', date='2026-02-05 20:30:00 at 8:30', venue='The Olympia', promoter='Promoter(name='MCD')')\n"
     ]
    }
   ],
   "source": [
    "from models import *\n",
    "\n",
    "# User story 1: As a promoter, I want to post upcoming gigs with details on artist, time, date, and venue, so fans will know what gigs are coming up.\n",
    "mcd = Promoter(\n",
    "    name=\"MCD\"\n",
    "    )\n",
    "\n",
    "gig0001 = Gig(\n",
    "    artist=\"Fontains DC\",\n",
    "\tdescription=\"Check out the next gig\",\n",
    "\tdate=datetime(2026,2,5,20,30,0),\n",
    "\ttime=\"8:30\",\n",
    "\timage_url=\"image/fontaines.jpg\",\n",
    "\tvenue=\"The Olympia\",\n",
    "    promoter=mcd\n",
    "    )\n",
    "\n",
    "gig0001\n",
    "\n",
    "# User story 2: As a promoter, I want to create a ticket sale event with start date, start time, amount of tickets, so I can sell tickets and make money.\n",
    "\n",
    "sale0001 = Sale(\n",
    "    ticket_price=\"65.00\",\n",
    "    ticket_amount=\"12,000\",\n",
    "    start_date_time=datetime(2025,11, 12, 10, 0, 0),\n",
    "    gig = gig0001\n",
    ")\n",
    "\n",
    "print(sale0001)\n",
    "\n",
    "# User story 3: As a promoter, I want to be able to toggle 'dynamic pricing', so the price of tickets will increase when quantities run low.\n",
    "print(sale0001.start_date_time)\n",
    "\n",
    "print(gig0001)"
   ]
  }
 ],
 "metadata": {
  "kernelspec": {
   "display_name": "Python 3",
   "language": "python",
   "name": "python3"
  },
  "language_info": {
   "codemirror_mode": {
    "name": "ipython",
    "version": 3
   },
   "file_extension": ".py",
   "mimetype": "text/x-python",
   "name": "python",
   "nbconvert_exporter": "python",
   "pygments_lexer": "ipython3",
   "version": "3.13.7"
  }
 },
 "nbformat": 4,
 "nbformat_minor": 5
}
