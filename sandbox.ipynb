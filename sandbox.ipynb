{
 "cells": [
  {
   "cell_type": "code",
   "execution_count": 1,
   "id": "d8920be2",
   "metadata": {},
   "outputs": [
    {
     "data": {
      "text/plain": [
       "Gig(artist='Fontains DC', description='Check out the next gig', date='11/11/2025 at 8:30', venue='The Olympia', promoter='<models.Promoter object at 0x00000255DB228440>')"
      ]
     },
     "execution_count": 1,
     "metadata": {},
     "output_type": "execute_result"
    }
   ],
   "source": [
    "from models import *\n",
    "\n",
    "\n",
    "mcd = Promoter(\n",
    "    name=\"MCD\"\n",
    "    )\n",
    "\n",
    "gig0001 = Gig(\n",
    "    artist=\"Fontains DC\",\n",
    "\tdescription=\"Check out the next gig\",\n",
    "\tdate=\"11/11/2025\",\n",
    "\ttime=\"8:30\",\n",
    "\timage_url=\"image/fontaines.jpg\",\n",
    "\tvenue=\"The Olympia\",\n",
    "    promoter=mcd\n",
    "    )\n",
    "\n",
    "gig0001"
   ]
  }
 ],
 "metadata": {
  "kernelspec": {
   "display_name": "Python 3",
   "language": "python",
   "name": "python3"
  },
  "language_info": {
   "codemirror_mode": {
    "name": "ipython",
    "version": 3
   },
   "file_extension": ".py",
   "mimetype": "text/x-python",
   "name": "python",
   "nbconvert_exporter": "python",
   "pygments_lexer": "ipython3",
   "version": "3.13.7"
  }
 },
 "nbformat": 4,
 "nbformat_minor": 5
}
