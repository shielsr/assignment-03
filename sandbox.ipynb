{
 "cells": [
  {
   "cell_type": "code",
   "execution_count": 6,
   "id": "d8920be2",
   "metadata": {},
   "outputs": [
    {
     "data": {
      "text/plain": [
       "Gig(artist='Fontains DC', description='Check out the next gig', date and time='2026-02-05 20:30:00', venue='The Olympia', promoter='Promoter(name='MCD')')"
      ]
     },
     "execution_count": 6,
     "metadata": {},
     "output_type": "execute_result"
    }
   ],
   "source": [
    "from models import *\n",
    "\n",
    "# User story 1: As a promoter, I want to post upcoming gigs with details on artist, time, date, and venue, so fans will know what gigs are coming up.\n",
    "\n",
    "mcd = Promoter(\n",
    "    name=\"MCD\"\n",
    "    )\n",
    "\n",
    "gig0001 = Gig(\n",
    "    artist=\"Fontains DC\",\n",
    "\tdescription=\"Check out the next gig\",\n",
    "\tdate_time=datetime(2026,2,5,20,30,0),\n",
    "\timage_url=\"image/fontaines.jpg\",\n",
    "\tvenue=\"The Olympia\",\n",
    "    promoter=mcd\n",
    "    )\n",
    "\n",
    "gig0001"
   ]
  },
  {
   "cell_type": "code",
   "execution_count": 2,
   "id": "2b443cd1",
   "metadata": {},
   "outputs": [
    {
     "ename": "TypeError",
     "evalue": "Sale.__init__() got an unexpected keyword argument 'start_date_time'. Did you mean 'sale_date_time'?",
     "output_type": "error",
     "traceback": [
      "\u001b[31m---------------------------------------------------------------------------\u001b[39m",
      "\u001b[31mTypeError\u001b[39m                                 Traceback (most recent call last)",
      "\u001b[36mCell\u001b[39m\u001b[36m \u001b[39m\u001b[32mIn[2]\u001b[39m\u001b[32m, line 3\u001b[39m\n\u001b[32m      1\u001b[39m \u001b[38;5;66;03m# User story 2: As a promoter, I want to create a ticket sale event with start date, start time, amount of tickets, so I can sell tickets and make money.\u001b[39;00m\n\u001b[32m----> \u001b[39m\u001b[32m3\u001b[39m sale0001 = \u001b[43mSale\u001b[49m\u001b[43m(\u001b[49m\n\u001b[32m      4\u001b[39m \u001b[43m    \u001b[49m\u001b[43mticket_price\u001b[49m\u001b[43m=\u001b[49m\u001b[32;43m20.50\u001b[39;49m\u001b[43m,\u001b[49m\n\u001b[32m      5\u001b[39m \u001b[43m    \u001b[49m\u001b[43mtickets_total\u001b[49m\u001b[43m=\u001b[49m\u001b[32;43m999\u001b[39;49m\u001b[43m,\u001b[49m\n\u001b[32m      6\u001b[39m \u001b[43m    \u001b[49m\u001b[43mstart_date_time\u001b[49m\u001b[43m=\u001b[49m\u001b[43mdatetime\u001b[49m\u001b[43m(\u001b[49m\u001b[32;43m2025\u001b[39;49m\u001b[43m,\u001b[49m\u001b[32;43m11\u001b[39;49m\u001b[43m,\u001b[49m\u001b[43m \u001b[49m\u001b[32;43m30\u001b[39;49m\u001b[43m,\u001b[49m\u001b[43m \u001b[49m\u001b[32;43m10\u001b[39;49m\u001b[43m,\u001b[49m\u001b[43m \u001b[49m\u001b[32;43m0\u001b[39;49m\u001b[43m,\u001b[49m\u001b[43m \u001b[49m\u001b[32;43m0\u001b[39;49m\u001b[43m)\u001b[49m\u001b[43m,\u001b[49m\n\u001b[32m      7\u001b[39m \u001b[43m    \u001b[49m\u001b[43mgig\u001b[49m\u001b[43m \u001b[49m\u001b[43m=\u001b[49m\u001b[43m \u001b[49m\u001b[43mgig0001\u001b[49m\n\u001b[32m      8\u001b[39m \u001b[43m)\u001b[49m\n\u001b[32m     10\u001b[39m \u001b[38;5;28mprint\u001b[39m(sale0001)\n",
      "\u001b[31mTypeError\u001b[39m: Sale.__init__() got an unexpected keyword argument 'start_date_time'. Did you mean 'sale_date_time'?"
     ]
    }
   ],
   "source": [
    "# User story 2: As a promoter, I want to create a ticket sale event with start date, start time, amount of tickets, so I can sell tickets and make money.\n",
    "\n",
    "sale0001 = Sale(\n",
    "    ticket_price=20.50,\n",
    "    tickets_total=999,\n",
    "    start_date_time=datetime(2025,11, 30, 10, 0, 0),\n",
    "    gig = gig0001\n",
    ")\n",
    "\n",
    "print(sale0001)"
   ]
  },
  {
   "cell_type": "code",
   "execution_count": null,
   "id": "992a4fc3",
   "metadata": {},
   "outputs": [
    {
     "name": "stdout",
     "output_type": "stream",
     "text": [
      "Sale starts in 76 days.\n"
     ]
    }
   ],
   "source": [
    "# As a promoter, I don't want to sell tickets before the sale start date, so fans can be ready to buy at a specific time.\n",
    "print(sale0001.countdown())"
   ]
  },
  {
   "cell_type": "code",
   "execution_count": null,
   "id": "a7b1e82f",
   "metadata": {},
   "outputs": [
    {
     "name": "stdout",
     "output_type": "stream",
     "text": [
      "Tickets aren't on sale yet.\n",
      "Sale(gig='Gig(artist='Fontains DC', description='Check out the next gig', date and time='2026-02-05 20:30:00', venue='The Olympia', promoter='Promoter(name='MCD')'))', sale begins='2025-11-30 10:00:00', amount of tickets=999)\n"
     ]
    }
   ],
   "source": [
    "# As a promoter, I want the sale to stop when tickets run out, so I don't sell too many tickets.\n",
    "print(sale0001.ticket_check())\n",
    "print(sale0001)"
   ]
  },
  {
   "cell_type": "code",
   "execution_count": null,
   "id": "c034b719",
   "metadata": {},
   "outputs": [
    {
     "name": "stdout",
     "output_type": "stream",
     "text": [
      "Total tickets: 999  Tickets left: 999\n",
      "Customer(name='Jim Smith', email='jimsmith@gmail.com'), you are buying 7 tickets\n",
      "Ticket price: 65.00\n",
      "Total cost: 455.00\n",
      "There are 992 tickets left.\n",
      "[{'customer': Customer(name='Jim Smith', email='jimsmith@gmail.com'), 'tickets': 7}]\n"
     ]
    }
   ],
   "source": [
    "# As a customer, I want to buy tickets so I can attend gigs.\n",
    "\n",
    "\n",
    "customer1234 = Customer(\n",
    "    name=\"Jim Smith\",\n",
    "\temail=\"jimsmith@gmail.com\"\n",
    "    )\n",
    "\n",
    "\n",
    "print(f\"Total tickets: {sale0001.tickets_total}  Tickets left: {sale0001.tickets_left}\")\n",
    "\n",
    "sale0001.buy(customer1234, 7)\n"
   ]
  },
  {
   "cell_type": "code",
   "execution_count": null,
   "id": "1e3d6943",
   "metadata": {},
   "outputs": [
    {
     "ename": "NameError",
     "evalue": "name 'buy_page' is not defined",
     "output_type": "error",
     "traceback": [
      "\u001b[31m---------------------------------------------------------------------------\u001b[39m",
      "\u001b[31mNameError\u001b[39m                                 Traceback (most recent call last)",
      "\u001b[36mCell\u001b[39m\u001b[36m \u001b[39m\u001b[32mIn[5]\u001b[39m\u001b[32m, line 1\u001b[39m\n\u001b[32m----> \u001b[39m\u001b[32m1\u001b[39m \u001b[43mbuy_page\u001b[49m(\u001b[32m1\u001b[39m)\n",
      "\u001b[31mNameError\u001b[39m: name 'buy_page' is not defined"
     ]
    }
   ],
   "source": []
  }
 ],
 "metadata": {
  "kernelspec": {
   "display_name": "Python 3",
   "language": "python",
   "name": "python3"
  },
  "language_info": {
   "codemirror_mode": {
    "name": "ipython",
    "version": 3
   },
   "file_extension": ".py",
   "mimetype": "text/x-python",
   "name": "python",
   "nbconvert_exporter": "python",
   "pygments_lexer": "ipython3",
   "version": "3.13.7"
  }
 },
 "nbformat": 4,
 "nbformat_minor": 5
}
